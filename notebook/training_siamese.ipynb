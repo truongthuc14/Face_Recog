{
 "cells": [
  {
   "cell_type": "code",
   "execution_count": 2,
   "metadata": {},
   "outputs": [],
   "source": [
    "import os\n",
    "os.chdir('E:/thuc/doan2/data')  # Đổi thư mục làm việc"
   ]
  },
  {
   "cell_type": "code",
   "execution_count": 3,
   "metadata": {},
   "outputs": [],
   "source": [
    "# Import các thư viện cần thiết\n",
    "import os\n",
    "import numpy as np\n",
    "import tensorflow as tf\n",
    "from keras import layers, Model, Input\n",
    "from keras.optimizers import Adam\n",
    "from sklearn.model_selection import train_test_split\n",
    "from PIL import Image\n",
    "import matplotlib.pyplot as plt\n"
   ]
  },
  {
   "cell_type": "code",
   "execution_count": 4,
   "metadata": {},
   "outputs": [
    {
     "name": "stdout",
     "output_type": "stream",
     "text": [
      "Số lượng cặp ảnh: 2376\n",
      "Ví dụ cặp ảnh đầu tiên: ['processed\\\\Akshay Kumar\\\\Akshay Kumar_0.jpg'\n",
      " 'processed\\\\Akshay Kumar\\\\Akshay Kumar_1.jpg'], Nhãn: 1\n"
     ]
    }
   ],
   "source": [
    "# Cấu hình đường dẫn\n",
    "pairs_dir = \"pairs\"\n",
    "processed_dir = \"processed\"\n",
    "\n",
    "# Load cặp ảnh và nhãn\n",
    "pairs = np.load(os.path.join(pairs_dir, \"pairs.npy\"), allow_pickle=True)\n",
    "labels = np.load(os.path.join(pairs_dir, \"labels.npy\"))\n",
    "\n",
    "print(f\"Số lượng cặp ảnh: {len(pairs)}\")\n",
    "print(f\"Ví dụ cặp ảnh đầu tiên: {pairs[0]}, Nhãn: {labels[0]}\")\n"
   ]
  },
  {
   "cell_type": "code",
   "execution_count": 5,
   "metadata": {},
   "outputs": [
    {
     "name": "stdout",
     "output_type": "stream",
     "text": [
      "Dữ liệu X1: (2376, 160, 160, 3), X2: (2376, 160, 160, 3), y: (2376,)\n"
     ]
    }
   ],
   "source": [
    "# Hàm load ảnh và chuẩn hóa\n",
    "def load_image(image_path, target_size=(160, 160)):\n",
    "    image = Image.open(image_path).convert(\"RGB\")\n",
    "    image = image.resize(target_size)\n",
    "    image = np.array(image) / 255.0  # Chuẩn hóa giá trị pixel về [0, 1]\n",
    "    return image\n",
    "\n",
    "# Chuẩn bị dữ liệu\n",
    "X1 = []\n",
    "X2 = []\n",
    "y = []\n",
    "\n",
    "for pair, label in zip(pairs, labels):\n",
    "    img1, img2 = pair\n",
    "    X1.append(load_image(img1))\n",
    "    X2.append(load_image(img2))\n",
    "    y.append(label)\n",
    "\n",
    "X1 = np.array(X1)\n",
    "X2 = np.array(X2)\n",
    "y = np.array(y)\n",
    "\n",
    "print(f\"Dữ liệu X1: {X1.shape}, X2: {X2.shape}, y: {y.shape}\")\n"
   ]
  },
  {
   "cell_type": "code",
   "execution_count": 6,
   "metadata": {},
   "outputs": [
    {
     "name": "stdout",
     "output_type": "stream",
     "text": [
      "Số lượng mẫu train: 1900, Số lượng mẫu test: 476\n"
     ]
    }
   ],
   "source": [
    "# Chia dữ liệu thành train và test\n",
    "X1_train, X1_test, X2_train, X2_test, y_train, y_test = train_test_split(X1, X2, y, test_size=0.2, random_state=42)\n",
    "\n",
    "print(f\"Số lượng mẫu train: {len(X1_train)}, Số lượng mẫu test: {len(X1_test)}\")\n"
   ]
  },
  {
   "cell_type": "code",
   "execution_count": 7,
   "metadata": {},
   "outputs": [
    {
     "name": "stdout",
     "output_type": "stream",
     "text": [
      "Model: \"model\"\n",
      "_________________________________________________________________\n",
      " Layer (type)                Output Shape              Param #   \n",
      "=================================================================\n",
      " input_1 (InputLayer)        [(None, 160, 160, 3)]     0         \n",
      "                                                                 \n",
      " conv2d (Conv2D)             (None, 158, 158, 64)      1792      \n",
      "                                                                 \n",
      " max_pooling2d (MaxPooling2D  (None, 79, 79, 64)       0         \n",
      " )                                                               \n",
      "                                                                 \n",
      " conv2d_1 (Conv2D)           (None, 77, 77, 128)       73856     \n",
      "                                                                 \n",
      " max_pooling2d_1 (MaxPooling  (None, 38, 38, 128)      0         \n",
      " 2D)                                                             \n",
      "                                                                 \n",
      " flatten (Flatten)           (None, 184832)            0         \n",
      "                                                                 \n",
      " dense (Dense)               (None, 128)               23658624  \n",
      "                                                                 \n",
      "=================================================================\n",
      "Total params: 23,734,272\n",
      "Trainable params: 23,734,272\n",
      "Non-trainable params: 0\n",
      "_________________________________________________________________\n"
     ]
    }
   ],
   "source": [
    "# Hàm tạo mô hình cơ bản để trích xuất đặc trưng\n",
    "def create_base_model(input_shape):\n",
    "    input_layer = Input(shape=input_shape)\n",
    "    x = layers.Conv2D(64, (3, 3), activation='relu')(input_layer)\n",
    "    x = layers.MaxPooling2D(pool_size=(2, 2))(x)\n",
    "    x = layers.Conv2D(128, (3, 3), activation='relu')(x)\n",
    "    x = layers.MaxPooling2D(pool_size=(2, 2))(x)\n",
    "    x = layers.Flatten()(x)\n",
    "    x = layers.Dense(128, activation='relu')(x)\n",
    "    return Model(input_layer, x)\n",
    "\n",
    "# Tạo mô hình cơ bản\n",
    "input_shape = (160, 160, 3)\n",
    "base_model = create_base_model(input_shape)\n",
    "base_model.summary()\n"
   ]
  },
  {
   "cell_type": "code",
   "execution_count": 8,
   "metadata": {},
   "outputs": [
    {
     "name": "stdout",
     "output_type": "stream",
     "text": [
      "Model: \"model_1\"\n",
      "__________________________________________________________________________________________________\n",
      " Layer (type)                   Output Shape         Param #     Connected to                     \n",
      "==================================================================================================\n",
      " input_2 (InputLayer)           [(None, 160, 160, 3  0           []                               \n",
      "                                )]                                                                \n",
      "                                                                                                  \n",
      " input_3 (InputLayer)           [(None, 160, 160, 3  0           []                               \n",
      "                                )]                                                                \n",
      "                                                                                                  \n",
      " model (Functional)             (None, 128)          23734272    ['input_2[0][0]',                \n",
      "                                                                  'input_3[0][0]']                \n",
      "                                                                                                  \n",
      " lambda (Lambda)                (None, 128)          0           ['model[0][0]',                  \n",
      "                                                                  'model[1][0]']                  \n",
      "                                                                                                  \n",
      " dense_1 (Dense)                (None, 1)            129         ['lambda[0][0]']                 \n",
      "                                                                                                  \n",
      "==================================================================================================\n",
      "Total params: 23,734,401\n",
      "Trainable params: 23,734,401\n",
      "Non-trainable params: 0\n",
      "__________________________________________________________________________________________________\n"
     ]
    }
   ],
   "source": [
    "# Xây dựng mô hình Siamese\n",
    "input_a = Input(shape=input_shape)\n",
    "input_b = Input(shape=input_shape)\n",
    "\n",
    "encoded_a = base_model(input_a)\n",
    "encoded_b = base_model(input_b)\n",
    "\n",
    "# Khoảng cách L1 giữa hai vector đặc trưng\n",
    "l1_distance = layers.Lambda(lambda tensors: tf.abs(tensors[0] - tensors[1]))([encoded_a, encoded_b])\n",
    "output_layer = layers.Dense(1, activation='sigmoid')(l1_distance)\n",
    "\n",
    "# Kết nối đầu vào và đầu ra\n",
    "siamese_model = Model([input_a, input_b], output_layer)\n",
    "siamese_model.summary()\n",
    "\n",
    "# Biên dịch mô hình\n",
    "siamese_model.compile(optimizer=Adam(learning_rate=0.001), loss='binary_crossentropy', metrics=['accuracy'])\n"
   ]
  },
  {
   "cell_type": "code",
   "execution_count": 9,
   "metadata": {},
   "outputs": [],
   "source": [
    "import os\n",
    "os.chdir('E:/thuc/doan2')  # Đổi thư mục làm việc"
   ]
  },
  {
   "cell_type": "code",
   "execution_count": 10,
   "metadata": {},
   "outputs": [
    {
     "name": "stdout",
     "output_type": "stream",
     "text": [
      "Epoch 1/10\n",
      "60/60 [==============================] - 153s 2s/step - loss: 0.1495 - accuracy: 0.9879 - val_loss: 0.1229 - val_accuracy: 0.9895\n",
      "Epoch 2/10\n",
      "60/60 [==============================] - 145s 2s/step - loss: 0.0798 - accuracy: 0.9879 - val_loss: 0.1581 - val_accuracy: 0.9895\n",
      "Epoch 3/10\n",
      "60/60 [==============================] - 142s 2s/step - loss: 0.0862 - accuracy: 0.9879 - val_loss: 0.0901 - val_accuracy: 0.9895\n",
      "Epoch 4/10\n",
      "60/60 [==============================] - 142s 2s/step - loss: 0.0685 - accuracy: 0.9879 - val_loss: 0.0793 - val_accuracy: 0.9895\n",
      "Epoch 5/10\n",
      "60/60 [==============================] - 150s 2s/step - loss: 0.0637 - accuracy: 0.9879 - val_loss: 0.1018 - val_accuracy: 0.9895\n",
      "Epoch 6/10\n",
      "60/60 [==============================] - 146s 2s/step - loss: 0.0600 - accuracy: 0.9879 - val_loss: 0.0744 - val_accuracy: 0.9895\n",
      "Epoch 7/10\n",
      "60/60 [==============================] - 148s 2s/step - loss: 0.0547 - accuracy: 0.9879 - val_loss: 0.0694 - val_accuracy: 0.9895\n",
      "Epoch 8/10\n",
      "60/60 [==============================] - 146s 2s/step - loss: 0.0448 - accuracy: 0.9879 - val_loss: 0.0777 - val_accuracy: 0.9895\n",
      "Epoch 9/10\n",
      "60/60 [==============================] - 145s 2s/step - loss: 0.0380 - accuracy: 0.9889 - val_loss: 0.2369 - val_accuracy: 0.9580\n",
      "Epoch 10/10\n",
      "60/60 [==============================] - 146s 2s/step - loss: 0.0359 - accuracy: 0.9916 - val_loss: 0.0985 - val_accuracy: 0.9895\n",
      "Mô hình đã được lưu tại models/siamese_model.h5\n"
     ]
    }
   ],
   "source": [
    "# Huấn luyện mô hình\n",
    "history = siamese_model.fit(\n",
    "    [X1_train, X2_train], y_train,\n",
    "    validation_data=([X1_test, X2_test], y_test),\n",
    "    batch_size=32,\n",
    "    epochs=10\n",
    ")\n",
    "\n",
    "# Lưu mô hình\n",
    "MODEL_PATH = \"models/siamese_model.h5\"\n",
    "os.makedirs(\"models\", exist_ok=True)\n",
    "siamese_model.save(MODEL_PATH)\n",
    "print(f\"Mô hình đã được lưu tại {MODEL_PATH}\")\n"
   ]
  },
  {
   "cell_type": "code",
   "execution_count": 11,
   "metadata": {},
   "outputs": [
    {
     "name": "stdout",
     "output_type": "stream",
     "text": [
      "15/15 [==============================] - 8s 556ms/step - loss: 0.0985 - accuracy: 0.9895\n",
      "Loss: 0.0985, Accuracy: 0.9895\n"
     ]
    }
   ],
   "source": [
    "# Đánh giá mô hình trên tập test\n",
    "loss, accuracy = siamese_model.evaluate([X1_test, X2_test], y_test)\n",
    "print(f\"Loss: {loss:.4f}, Accuracy: {accuracy:.4f}\")\n"
   ]
  }
 ],
 "metadata": {
  "kernelspec": {
   "display_name": "Python 3",
   "language": "python",
   "name": "python3"
  },
  "language_info": {
   "codemirror_mode": {
    "name": "ipython",
    "version": 3
   },
   "file_extension": ".py",
   "mimetype": "text/x-python",
   "name": "python",
   "nbconvert_exporter": "python",
   "pygments_lexer": "ipython3",
   "version": "3.9.10"
  }
 },
 "nbformat": 4,
 "nbformat_minor": 2
}
