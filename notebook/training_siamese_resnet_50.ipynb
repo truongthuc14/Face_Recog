{
 "cells": [
  {
   "cell_type": "code",
   "execution_count": 19,
   "metadata": {},
   "outputs": [],
   "source": [
    "import numpy as np\n",
    "import tensorflow as tf\n",
    "from keras.layers import Input, Lambda, Dense\n",
    "from keras.models import Model\n",
    "from keras.applications import ResNet50\n",
    "from keras.optimizers import Adam\n",
    "from keras import backend as K\n",
    "from sklearn.model_selection import train_test_split"
   ]
  },
  {
   "cell_type": "code",
   "execution_count": 20,
   "metadata": {},
   "outputs": [],
   "source": [
    "# Đường dẫn đến dữ liệu\n",
    "PAIRS_PATH = \"data/pairs/pairs.npy\"\n",
    "LABELS_PATH = \"data/pairs/labels.npy\""
   ]
  },
  {
   "cell_type": "code",
   "execution_count": 21,
   "metadata": {},
   "outputs": [],
   "source": [
    "# Tải dữ liệu cặp ảnh và nhãn\n",
    "pairs = np.load(PAIRS_PATH)\n",
    "labels = np.load(LABELS_PATH)"
   ]
  },
  {
   "cell_type": "code",
   "execution_count": 22,
   "metadata": {},
   "outputs": [],
   "source": [
    "# Chia dữ liệu thành train/test\n",
    "pairs_train, pairs_test, labels_train, labels_test = train_test_split(\n",
    "    pairs, labels, test_size=0.2, random_state=42\n",
    ")\n"
   ]
  },
  {
   "cell_type": "code",
   "execution_count": 23,
   "metadata": {},
   "outputs": [],
   "source": [
    "# Kích thước đầu vào\n",
    "input_shape = (160, 160, 3)"
   ]
  },
  {
   "cell_type": "code",
   "execution_count": 24,
   "metadata": {},
   "outputs": [],
   "source": [
    "# Base Network: ResNet50\n",
    "def create_base_network(input_shape):\n",
    "    \"\"\"\n",
    "    Tạo mạng con ResNet50 để trích xuất đặc trưng.\n",
    "    \"\"\"\n",
    "    base_model = ResNet50(weights=\"imagenet\", include_top=False, input_shape=input_shape, pooling=\"avg\")\n",
    "    return Model(inputs=base_model.input, outputs=base_model.output)"
   ]
  },
  {
   "cell_type": "code",
   "execution_count": null,
   "metadata": {},
   "outputs": [],
   "source": [
    "# Siamese Network\n",
    "def create_siamese_network(input_shape):\n",
    "    \"\"\"\n",
    "    Xây dựng mô hình Siamese Network.\n",
    "    \"\"\"\n",
    "    base_network = create_base_network(input_shape)\n",
    "\n",
    "    # Hai đầu vào\n",
    "    input_a = Input(shape=input_shape)\n",
    "    input_b = Input(shape=input_shape)\n",
    "\n",
    "    # Trích xuất đặc trưng từ Base Network\n",
    "    embedding_a = base_network(input_a)\n",
    "    embedding_b = base_network(input_b)\n",
    "\n",
    "# Lớp Lambda để tính khoảng cách Euclidean\n",
    "    def euclidean_distance(vectors):\n",
    "        x, y = vectors\n",
    "        return K.sqrt(K.sum(K.square(x - y), axis=1, keepdims=True))\n",
    "\n",
    "    distance = Lambda(euclidean_distance, name=\"Euclidean_Distance\")([embedding_a, embedding_b])\n",
    "\n",
    "    # Lớp đầu ra (binary classification)\n",
    "    output = Dense(1, activation=\"sigmoid\", name=\"Output\")(distance)\n",
    "\n",
    "    # Mô hình hoàn chỉnh\n",
    "    siamese_model = Model(inputs=[input_a, input_b], outputs=output)\n",
    "    return siamese_model\n",
    "\n",
    "\n",
    "# Hàm mất mát Contrastive Loss\n",
    "def contrastive_loss(y_true, y_pred):\n",
    "    \"\"\"\n",
    "    Hàm mất mát Contrastive Loss.\n",
    "    Args:\n",
    "        y_true: Nhãn thực tế (0 hoặc 1).\n",
    "        y_pred: Khoảng cách Euclidean giữa các embeddings.\n",
    "    Returns:\n",
    "        Loss value.\n",
    "    \"\"\"\n",
    "    margin = 1.0\n",
    "    # Chuyển đổi y_true sang float32\n",
    "    y_true = K.cast(y_true, K.floatx())\n",
    "    return K.mean(\n",
    "        y_true * K.square(y_pred) + (1 - y_true) * K.square(K.maximum(margin - y_pred, 0))\n",
    "    )"
   ]
  },
  {
   "cell_type": "code",
   "execution_count": 26,
   "metadata": {},
   "outputs": [
    {
     "name": "stdout",
     "output_type": "stream",
     "text": [
      "Model: \"model_3\"\n",
      "__________________________________________________________________________________________________\n",
      " Layer (type)                   Output Shape         Param #     Connected to                     \n",
      "==================================================================================================\n",
      " input_5 (InputLayer)           [(None, 160, 160, 3  0           []                               \n",
      "                                )]                                                                \n",
      "                                                                                                  \n",
      " input_6 (InputLayer)           [(None, 160, 160, 3  0           []                               \n",
      "                                )]                                                                \n",
      "                                                                                                  \n",
      " model_2 (Functional)           (None, 2048)         23587712    ['input_5[0][0]',                \n",
      "                                                                  'input_6[0][0]']                \n",
      "                                                                                                  \n",
      " Euclidean_Distance (Lambda)    (None, 1)            0           ['model_2[0][0]',                \n",
      "                                                                  'model_2[1][0]']                \n",
      "                                                                                                  \n",
      " Output (Dense)                 (None, 1)            2           ['Euclidean_Distance[0][0]']     \n",
      "                                                                                                  \n",
      "==================================================================================================\n",
      "Total params: 23,587,714\n",
      "Trainable params: 23,534,594\n",
      "Non-trainable params: 53,120\n",
      "__________________________________________________________________________________________________\n"
     ]
    }
   ],
   "source": [
    "# Biên dịch mô hình\n",
    "siamese_model = create_siamese_network(input_shape)\n",
    "siamese_model.compile(loss=contrastive_loss, optimizer=Adam(learning_rate=0.0001), metrics=[\"accuracy\"])\n",
    "siamese_model.summary()"
   ]
  },
  {
   "cell_type": "code",
   "execution_count": 27,
   "metadata": {},
   "outputs": [],
   "source": [
    "\n",
    "# Hàm load và chuẩn hóa ảnh\n",
    "def load_and_preprocess_image(image_path):\n",
    "    \"\"\"\n",
    "    Tải và chuẩn hóa ảnh.\n",
    "    \"\"\"\n",
    "    image = tf.keras.preprocessing.image.load_img(image_path, target_size=(160, 160))\n",
    "    image = tf.keras.preprocessing.image.img_to_array(image)\n",
    "    image = tf.keras.applications.resnet50.preprocess_input(image)\n",
    "    return image"
   ]
  },
  {
   "cell_type": "code",
   "execution_count": 28,
   "metadata": {},
   "outputs": [],
   "source": [
    "# Chuẩn bị dữ liệu\n",
    "def generate_data(pairs, labels, batch_size=32):\n",
    "    \"\"\"\n",
    "    Generator để tạo dữ liệu batch cho huấn luyện.\n",
    "    \"\"\"\n",
    "    while True:\n",
    "        for i in range(0, len(pairs), batch_size):\n",
    "            batch_pairs = pairs[i : i + batch_size]\n",
    "            batch_labels = labels[i : i + batch_size]\n",
    "\n",
    "            images_a = np.array([load_and_preprocess_image(pair[0]) for pair in batch_pairs])\n",
    "            images_b = np.array([load_and_preprocess_image(pair[1]) for pair in batch_pairs])\n",
    "\n",
    "            yield [images_a, images_b], np.array(batch_labels)"
   ]
  },
  {
   "cell_type": "code",
   "execution_count": 29,
   "metadata": {},
   "outputs": [
    {
     "name": "stdout",
     "output_type": "stream",
     "text": [
      "Epoch 1/10\n"
     ]
    },
    {
     "ename": "TypeError",
     "evalue": "in user code:\n\n    File \"c:\\Users\\HUY THONG\\AppData\\Local\\Programs\\Python\\Python39\\lib\\site-packages\\keras\\engine\\training.py\", line 1249, in train_function  *\n        return step_function(self, iterator)\n    File \"C:\\Users\\HUY THONG\\AppData\\Local\\Temp\\ipykernel_21940\\2491474645.py\", line 37, in contrastive_loss  *\n        y_true * K.square(y_pred) + (1 - y_true) * K.square(K.maximum(margin - y_pred, 0))\n\n    TypeError: Input 'y' of 'Mul' Op has type float32 that does not match type int32 of argument 'x'.\n",
     "output_type": "error",
     "traceback": [
      "\u001b[1;31m---------------------------------------------------------------------------\u001b[0m",
      "\u001b[1;31mTypeError\u001b[0m                                 Traceback (most recent call last)",
      "Cell \u001b[1;32mIn[29], line 11\u001b[0m\n\u001b[0;32m      8\u001b[0m steps_per_epoch \u001b[38;5;241m=\u001b[39m \u001b[38;5;28mlen\u001b[39m(pairs_train) \u001b[38;5;241m/\u001b[39m\u001b[38;5;241m/\u001b[39m batch_size\n\u001b[0;32m      9\u001b[0m validation_steps \u001b[38;5;241m=\u001b[39m \u001b[38;5;28mlen\u001b[39m(pairs_test) \u001b[38;5;241m/\u001b[39m\u001b[38;5;241m/\u001b[39m batch_size\n\u001b[1;32m---> 11\u001b[0m \u001b[43msiamese_model\u001b[49m\u001b[38;5;241;43m.\u001b[39;49m\u001b[43mfit\u001b[49m\u001b[43m(\u001b[49m\n\u001b[0;32m     12\u001b[0m \u001b[43m    \u001b[49m\u001b[43mtrain_gen\u001b[49m\u001b[43m,\u001b[49m\n\u001b[0;32m     13\u001b[0m \u001b[43m    \u001b[49m\u001b[43msteps_per_epoch\u001b[49m\u001b[38;5;241;43m=\u001b[39;49m\u001b[43msteps_per_epoch\u001b[49m\u001b[43m,\u001b[49m\n\u001b[0;32m     14\u001b[0m \u001b[43m    \u001b[49m\u001b[43mvalidation_data\u001b[49m\u001b[38;5;241;43m=\u001b[39;49m\u001b[43mtest_gen\u001b[49m\u001b[43m,\u001b[49m\n\u001b[0;32m     15\u001b[0m \u001b[43m    \u001b[49m\u001b[43mvalidation_steps\u001b[49m\u001b[38;5;241;43m=\u001b[39;49m\u001b[43mvalidation_steps\u001b[49m\u001b[43m,\u001b[49m\n\u001b[0;32m     16\u001b[0m \u001b[43m    \u001b[49m\u001b[43mepochs\u001b[49m\u001b[38;5;241;43m=\u001b[39;49m\u001b[43mepochs\u001b[49m\u001b[43m,\u001b[49m\n\u001b[0;32m     17\u001b[0m \u001b[43m)\u001b[49m\n\u001b[0;32m     19\u001b[0m \u001b[38;5;66;03m# Lưu mô hình\u001b[39;00m\n\u001b[0;32m     20\u001b[0m siamese_model\u001b[38;5;241m.\u001b[39msave(\u001b[38;5;124m\"\u001b[39m\u001b[38;5;124mmodels/siamese_resnet_model.h5\u001b[39m\u001b[38;5;124m\"\u001b[39m)\n",
      "File \u001b[1;32mc:\\Users\\HUY THONG\\AppData\\Local\\Programs\\Python\\Python39\\lib\\site-packages\\keras\\utils\\traceback_utils.py:70\u001b[0m, in \u001b[0;36mfilter_traceback.<locals>.error_handler\u001b[1;34m(*args, **kwargs)\u001b[0m\n\u001b[0;32m     67\u001b[0m     filtered_tb \u001b[38;5;241m=\u001b[39m _process_traceback_frames(e\u001b[38;5;241m.\u001b[39m__traceback__)\n\u001b[0;32m     68\u001b[0m     \u001b[38;5;66;03m# To get the full stack trace, call:\u001b[39;00m\n\u001b[0;32m     69\u001b[0m     \u001b[38;5;66;03m# `tf.debugging.disable_traceback_filtering()`\u001b[39;00m\n\u001b[1;32m---> 70\u001b[0m     \u001b[38;5;28;01mraise\u001b[39;00m e\u001b[38;5;241m.\u001b[39mwith_traceback(filtered_tb) \u001b[38;5;28;01mfrom\u001b[39;00m \u001b[38;5;28;01mNone\u001b[39;00m\n\u001b[0;32m     71\u001b[0m \u001b[38;5;28;01mfinally\u001b[39;00m:\n\u001b[0;32m     72\u001b[0m     \u001b[38;5;28;01mdel\u001b[39;00m filtered_tb\n",
      "File \u001b[1;32mC:\\Users\\HUYTHO~1\\AppData\\Local\\Temp\\__autograph_generated_filecy68kc9w.py:15\u001b[0m, in \u001b[0;36mouter_factory.<locals>.inner_factory.<locals>.tf__train_function\u001b[1;34m(iterator)\u001b[0m\n\u001b[0;32m     13\u001b[0m \u001b[38;5;28;01mtry\u001b[39;00m:\n\u001b[0;32m     14\u001b[0m     do_return \u001b[38;5;241m=\u001b[39m \u001b[38;5;28;01mTrue\u001b[39;00m\n\u001b[1;32m---> 15\u001b[0m     retval_ \u001b[38;5;241m=\u001b[39m ag__\u001b[38;5;241m.\u001b[39mconverted_call(ag__\u001b[38;5;241m.\u001b[39mld(step_function), (ag__\u001b[38;5;241m.\u001b[39mld(\u001b[38;5;28mself\u001b[39m), ag__\u001b[38;5;241m.\u001b[39mld(iterator)), \u001b[38;5;28;01mNone\u001b[39;00m, fscope)\n\u001b[0;32m     16\u001b[0m \u001b[38;5;28;01mexcept\u001b[39;00m:\n\u001b[0;32m     17\u001b[0m     do_return \u001b[38;5;241m=\u001b[39m \u001b[38;5;28;01mFalse\u001b[39;00m\n",
      "File \u001b[1;32mC:\\Users\\HUYTHO~1\\AppData\\Local\\Temp\\__autograph_generated_fileowccmkxh.py:16\u001b[0m, in \u001b[0;36mouter_factory.<locals>.inner_factory.<locals>.tf__contrastive_loss\u001b[1;34m(y_true, y_pred)\u001b[0m\n\u001b[0;32m     14\u001b[0m \u001b[38;5;28;01mtry\u001b[39;00m:\n\u001b[0;32m     15\u001b[0m     do_return \u001b[38;5;241m=\u001b[39m \u001b[38;5;28;01mTrue\u001b[39;00m\n\u001b[1;32m---> 16\u001b[0m     retval_ \u001b[38;5;241m=\u001b[39m ag__\u001b[38;5;241m.\u001b[39mconverted_call(ag__\u001b[38;5;241m.\u001b[39mld(K)\u001b[38;5;241m.\u001b[39mmean, (ag__\u001b[38;5;241m.\u001b[39mld(y_true) \u001b[38;5;241m*\u001b[39m ag__\u001b[38;5;241m.\u001b[39mconverted_call(ag__\u001b[38;5;241m.\u001b[39mld(K)\u001b[38;5;241m.\u001b[39msquare, (ag__\u001b[38;5;241m.\u001b[39mld(y_pred),), \u001b[38;5;28;01mNone\u001b[39;00m, fscope) \u001b[38;5;241m+\u001b[39m (\u001b[38;5;241m1\u001b[39m \u001b[38;5;241m-\u001b[39m ag__\u001b[38;5;241m.\u001b[39mld(y_true)) \u001b[38;5;241m*\u001b[39m ag__\u001b[38;5;241m.\u001b[39mconverted_call(ag__\u001b[38;5;241m.\u001b[39mld(K)\u001b[38;5;241m.\u001b[39msquare, (ag__\u001b[38;5;241m.\u001b[39mconverted_call(ag__\u001b[38;5;241m.\u001b[39mld(K)\u001b[38;5;241m.\u001b[39mmaximum, (ag__\u001b[38;5;241m.\u001b[39mld(margin) \u001b[38;5;241m-\u001b[39m ag__\u001b[38;5;241m.\u001b[39mld(y_pred), \u001b[38;5;241m0\u001b[39m), \u001b[38;5;28;01mNone\u001b[39;00m, fscope),), \u001b[38;5;28;01mNone\u001b[39;00m, fscope),), \u001b[38;5;28;01mNone\u001b[39;00m, fscope)\n\u001b[0;32m     17\u001b[0m \u001b[38;5;28;01mexcept\u001b[39;00m:\n\u001b[0;32m     18\u001b[0m     do_return \u001b[38;5;241m=\u001b[39m \u001b[38;5;28;01mFalse\u001b[39;00m\n",
      "\u001b[1;31mTypeError\u001b[0m: in user code:\n\n    File \"c:\\Users\\HUY THONG\\AppData\\Local\\Programs\\Python\\Python39\\lib\\site-packages\\keras\\engine\\training.py\", line 1249, in train_function  *\n        return step_function(self, iterator)\n    File \"C:\\Users\\HUY THONG\\AppData\\Local\\Temp\\ipykernel_21940\\2491474645.py\", line 37, in contrastive_loss  *\n        y_true * K.square(y_pred) + (1 - y_true) * K.square(K.maximum(margin - y_pred, 0))\n\n    TypeError: Input 'y' of 'Mul' Op has type float32 that does not match type int32 of argument 'x'.\n"
     ]
    }
   ],
   "source": [
    "# Huấn luyện mô hình\n",
    "batch_size = 32\n",
    "epochs = 10\n",
    "\n",
    "train_gen = generate_data(pairs_train, labels_train, batch_size)\n",
    "test_gen = generate_data(pairs_test, labels_test, batch_size)\n",
    "\n",
    "steps_per_epoch = len(pairs_train) // batch_size\n",
    "validation_steps = len(pairs_test) // batch_size\n",
    "\n",
    "siamese_model.fit(\n",
    "    train_gen,\n",
    "    steps_per_epoch=steps_per_epoch,\n",
    "    validation_data=test_gen,\n",
    "    validation_steps=validation_steps,\n",
    "    epochs=epochs,\n",
    ")\n",
    "\n",
    "# Lưu mô hình\n",
    "siamese_model.save(\"models/siamese_resnet_model.h5\")\n",
    "print(\"Mô hình đã được lưu.\")"
   ]
  }
 ],
 "metadata": {
  "kernelspec": {
   "display_name": "Python 3",
   "language": "python",
   "name": "python3"
  },
  "language_info": {
   "codemirror_mode": {
    "name": "ipython",
    "version": 3
   },
   "file_extension": ".py",
   "mimetype": "text/x-python",
   "name": "python",
   "nbconvert_exporter": "python",
   "pygments_lexer": "ipython3",
   "version": "3.9.10"
  }
 },
 "nbformat": 4,
 "nbformat_minor": 2
}
